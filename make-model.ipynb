{
 "cells": [
  {
   "cell_type": "markdown",
   "metadata": {},
   "source": [
    "### DS Test for Lucid 1: making a simple c;assification model\n",
    "\n",
    "#### Summary:\n",
    "Data is high-dimensional and imbalanced. We assume it's of value to identify the real minority cases in y. There's mo duplicates or NA. \n",
    "We tried a baseline with mode prediction. With another simple model, we oversample y, and Scale and PCA on X in preprocessing, then fit a logistic regressions. As we evaluate error with 30% test data, the baseline model gets nothing right about the minority cases in y, while the logistic model was able to reach a 60% recall on y minorities. It's then pickled as a final model. \n",
    "\n",
    "#### If I have more time...\n",
    "1. More EDA on positive Y cases. Better feature engineering.\n",
    "2. Try more model options, maybe more fancy ones. When I feel like wanna experiement more models, I usually go to H2O.ai and try their AutoML or Driverless AI instead of hand build 100 different models.\n",
    "\n",
    "#### 1 Data preparation\n",
    "Since this model is supposed to be simple and features and objective are unknown, I minimize my effort in prepraing the data."
   ]
  },
  {
   "cell_type": "code",
   "execution_count": 193,
   "metadata": {},
   "outputs": [],
   "source": [
    "import numpy as np\n",
    "import matplotlib.pyplot as plt\n",
    "import pandas as pd\n",
    "import warnings\n",
    "warnings.filterwarnings('ignore')"
   ]
  },
  {
   "cell_type": "code",
   "execution_count": 194,
   "metadata": {},
   "outputs": [
    {
     "data": {
      "text/html": [
       "<div>\n",
       "<style scoped>\n",
       "    .dataframe tbody tr th:only-of-type {\n",
       "        vertical-align: middle;\n",
       "    }\n",
       "\n",
       "    .dataframe tbody tr th {\n",
       "        vertical-align: top;\n",
       "    }\n",
       "\n",
       "    .dataframe thead th {\n",
       "        text-align: right;\n",
       "    }\n",
       "</style>\n",
       "<table border=\"1\" class=\"dataframe\">\n",
       "  <thead>\n",
       "    <tr style=\"text-align: right;\">\n",
       "      <th></th>\n",
       "      <th>label</th>\n",
       "      <th>f1</th>\n",
       "      <th>f2</th>\n",
       "      <th>f3</th>\n",
       "      <th>f4</th>\n",
       "      <th>f5</th>\n",
       "      <th>f6</th>\n",
       "      <th>f7</th>\n",
       "      <th>f8</th>\n",
       "      <th>f9</th>\n",
       "      <th>...</th>\n",
       "      <th>f493</th>\n",
       "      <th>f494</th>\n",
       "      <th>f495</th>\n",
       "      <th>f496</th>\n",
       "      <th>f497</th>\n",
       "      <th>f498</th>\n",
       "      <th>f499</th>\n",
       "      <th>f500</th>\n",
       "      <th>f501</th>\n",
       "      <th>f502</th>\n",
       "    </tr>\n",
       "  </thead>\n",
       "  <tbody>\n",
       "    <tr>\n",
       "      <th>0</th>\n",
       "      <td>0</td>\n",
       "      <td>0</td>\n",
       "      <td>0</td>\n",
       "      <td>0</td>\n",
       "      <td>0</td>\n",
       "      <td>0.000000</td>\n",
       "      <td>0.000000</td>\n",
       "      <td>17755.0</td>\n",
       "      <td>7</td>\n",
       "      <td>0</td>\n",
       "      <td>...</td>\n",
       "      <td>0</td>\n",
       "      <td>0</td>\n",
       "      <td>0</td>\n",
       "      <td>0</td>\n",
       "      <td>1</td>\n",
       "      <td>0</td>\n",
       "      <td>0</td>\n",
       "      <td>0</td>\n",
       "      <td>0</td>\n",
       "      <td>0</td>\n",
       "    </tr>\n",
       "    <tr>\n",
       "      <th>1</th>\n",
       "      <td>0</td>\n",
       "      <td>0</td>\n",
       "      <td>0</td>\n",
       "      <td>0</td>\n",
       "      <td>0</td>\n",
       "      <td>0.000000</td>\n",
       "      <td>0.000000</td>\n",
       "      <td>0.0</td>\n",
       "      <td>0</td>\n",
       "      <td>0</td>\n",
       "      <td>...</td>\n",
       "      <td>0</td>\n",
       "      <td>0</td>\n",
       "      <td>0</td>\n",
       "      <td>0</td>\n",
       "      <td>1</td>\n",
       "      <td>0</td>\n",
       "      <td>0</td>\n",
       "      <td>0</td>\n",
       "      <td>0</td>\n",
       "      <td>0</td>\n",
       "    </tr>\n",
       "    <tr>\n",
       "      <th>2</th>\n",
       "      <td>0</td>\n",
       "      <td>1</td>\n",
       "      <td>4516870</td>\n",
       "      <td>0</td>\n",
       "      <td>3</td>\n",
       "      <td>0.250000</td>\n",
       "      <td>0.035714</td>\n",
       "      <td>0.0</td>\n",
       "      <td>0</td>\n",
       "      <td>0</td>\n",
       "      <td>...</td>\n",
       "      <td>0</td>\n",
       "      <td>0</td>\n",
       "      <td>0</td>\n",
       "      <td>0</td>\n",
       "      <td>1</td>\n",
       "      <td>0</td>\n",
       "      <td>0</td>\n",
       "      <td>0</td>\n",
       "      <td>0</td>\n",
       "      <td>0</td>\n",
       "    </tr>\n",
       "    <tr>\n",
       "      <th>3</th>\n",
       "      <td>0</td>\n",
       "      <td>1</td>\n",
       "      <td>52743</td>\n",
       "      <td>0</td>\n",
       "      <td>4</td>\n",
       "      <td>0.333333</td>\n",
       "      <td>0.047619</td>\n",
       "      <td>0.0</td>\n",
       "      <td>0</td>\n",
       "      <td>0</td>\n",
       "      <td>...</td>\n",
       "      <td>0</td>\n",
       "      <td>0</td>\n",
       "      <td>0</td>\n",
       "      <td>0</td>\n",
       "      <td>0</td>\n",
       "      <td>1</td>\n",
       "      <td>0</td>\n",
       "      <td>0</td>\n",
       "      <td>0</td>\n",
       "      <td>0</td>\n",
       "    </tr>\n",
       "    <tr>\n",
       "      <th>4</th>\n",
       "      <td>0</td>\n",
       "      <td>0</td>\n",
       "      <td>0</td>\n",
       "      <td>0</td>\n",
       "      <td>0</td>\n",
       "      <td>0.000000</td>\n",
       "      <td>0.000000</td>\n",
       "      <td>0.0</td>\n",
       "      <td>0</td>\n",
       "      <td>0</td>\n",
       "      <td>...</td>\n",
       "      <td>0</td>\n",
       "      <td>0</td>\n",
       "      <td>0</td>\n",
       "      <td>0</td>\n",
       "      <td>1</td>\n",
       "      <td>0</td>\n",
       "      <td>0</td>\n",
       "      <td>0</td>\n",
       "      <td>0</td>\n",
       "      <td>0</td>\n",
       "    </tr>\n",
       "  </tbody>\n",
       "</table>\n",
       "<p>5 rows × 503 columns</p>\n",
       "</div>"
      ],
      "text/plain": [
       "   label  f1       f2  f3  f4        f5        f6       f7  f8  f9  ...  f493  \\\n",
       "0      0   0        0   0   0  0.000000  0.000000  17755.0   7   0  ...     0   \n",
       "1      0   0        0   0   0  0.000000  0.000000      0.0   0   0  ...     0   \n",
       "2      0   1  4516870   0   3  0.250000  0.035714      0.0   0   0  ...     0   \n",
       "3      0   1    52743   0   4  0.333333  0.047619      0.0   0   0  ...     0   \n",
       "4      0   0        0   0   0  0.000000  0.000000      0.0   0   0  ...     0   \n",
       "\n",
       "   f494  f495  f496  f497  f498  f499  f500  f501  f502  \n",
       "0     0     0     0     1     0     0     0     0     0  \n",
       "1     0     0     0     1     0     0     0     0     0  \n",
       "2     0     0     0     1     0     0     0     0     0  \n",
       "3     0     0     0     0     1     0     0     0     0  \n",
       "4     0     0     0     1     0     0     0     0     0  \n",
       "\n",
       "[5 rows x 503 columns]"
      ]
     },
     "execution_count": 194,
     "metadata": {},
     "output_type": "execute_result"
    }
   ],
   "source": [
    "# Loarding data set\n",
    "dta = pd.read_csv(\"C:/Users/Tianl/Documents/GitHub/Pet-projects/lucid_skills_test/data/lucid_dataset_train.csv\")\n",
    "dta.head()"
   ]
  },
  {
   "cell_type": "code",
   "execution_count": 195,
   "metadata": {},
   "outputs": [
    {
     "data": {
      "text/plain": [
       "count    6948.000000\n",
       "mean        0.036126\n",
       "std         0.186616\n",
       "min         0.000000\n",
       "25%         0.000000\n",
       "50%         0.000000\n",
       "75%         0.000000\n",
       "max         1.000000\n",
       "Name: label, dtype: float64"
      ]
     },
     "execution_count": 195,
     "metadata": {},
     "output_type": "execute_result"
    }
   ],
   "source": [
    "#Checking y distribution\n",
    "dta.label.describe()"
   ]
  },
  {
   "cell_type": "markdown",
   "metadata": {},
   "source": [
    "Y has only 4% positive cases--this is a highly imbalanced dataset. "
   ]
  },
  {
   "cell_type": "code",
   "execution_count": 196,
   "metadata": {},
   "outputs": [
    {
     "data": {
      "text/plain": [
       "(6948, 503)"
      ]
     },
     "execution_count": 196,
     "metadata": {},
     "output_type": "execute_result"
    }
   ],
   "source": [
    "#checking duplicates and NAs\n",
    "dta.dropna().drop_duplicates().shape"
   ]
  },
  {
   "cell_type": "code",
   "execution_count": 197,
   "metadata": {},
   "outputs": [],
   "source": [
    "#dropping duplicates and NAs\n",
    "dta=dta.dropna().drop_duplicates()"
   ]
  },
  {
   "cell_type": "markdown",
   "metadata": {},
   "source": [
    "There are many features in the data, but no missing values or duplicates."
   ]
  },
  {
   "cell_type": "code",
   "execution_count": 198,
   "metadata": {},
   "outputs": [],
   "source": [
    "#split train/test data with 7:3.\n",
    "from sklearn.model_selection import train_test_split\n",
    "y = dta.label\n",
    "X = dta.drop(['label'], axis=1)\n",
    "X_train, X_test, y_train, y_test = train_test_split(X, y, test_size=0.3, random_state=0)"
   ]
  },
  {
   "cell_type": "markdown",
   "metadata": {},
   "source": [
    "#### Baseline: mode predicting all + CVed error\n",
    "This model does nothing but use only the mode of test set to predict all values. This can be a stupid choice prediction-wise but it serves as a very basic comparison."
   ]
  },
  {
   "cell_type": "code",
   "execution_count": 199,
   "metadata": {},
   "outputs": [],
   "source": [
    "#Formulate the model \n",
    "from sklearn.dummy import DummyClassifier\n",
    "dummy_clf = DummyClassifier(strategy=\"most_frequent\")"
   ]
  },
  {
   "cell_type": "code",
   "execution_count": 200,
   "metadata": {},
   "outputs": [
    {
     "name": "stdout",
     "output_type": "stream",
     "text": [
      "Recall: 0.50 (+/- 0.00)\n"
     ]
    }
   ],
   "source": [
    "#Because we don't have many data points, we use 10-fold CV to estimate train errors.\n",
    "from sklearn.model_selection import cross_val_score\n",
    "from sklearn.metrics import recall_score\n",
    "scores=cross_val_score(dummy_clf,X_test_scaled, y_test,cv=10,scoring=\"recall_macro\")\n",
    "print(\"Recall: %0.2f (+/- %0.2f)\" % (scores.mean(), scores.std() * 2))"
   ]
  },
  {
   "cell_type": "code",
   "execution_count": 201,
   "metadata": {},
   "outputs": [
    {
     "name": "stdout",
     "output_type": "stream",
     "text": [
      "              precision    recall  f1-score   support\n",
      "\n",
      "           0       0.96      1.00      0.98      2012\n",
      "           1       0.00      0.00      0.00        73\n",
      "\n",
      "   micro avg       0.96      0.96      0.96      2085\n",
      "   macro avg       0.48      0.50      0.49      2085\n",
      "weighted avg       0.93      0.96      0.95      2085\n",
      "\n"
     ]
    }
   ],
   "source": [
    "#Fit and inspect the model's test performance. Because there's only one parameter so I didn't estimate error rate on the training set.\n",
    "dummy_clf.fit(X_train,y_train)\n",
    "y_pred = dummy_clf.predict(X_test)\n",
    "print(classification_report(y_test, y_pred))"
   ]
  },
  {
   "cell_type": "markdown",
   "metadata": {},
   "source": [
    "The mode prediction did quite bad on test data. In fact it didn't get a single TP right, but it's not our final model anayways. "
   ]
  },
  {
   "cell_type": "markdown",
   "metadata": {},
   "source": [
    "#### A simple model: Oversampling + Scaling + PCA + Logit\n",
    "This model applies some preprocessing tricks and tunes a logit model, which is fast, easy and commonly adopted. \n",
    "\n",
    "First, because the y is highly imbalanced, we use a simple method to oversample the minority (positive) case here. "
   ]
  },
  {
   "cell_type": "code",
   "execution_count": 202,
   "metadata": {},
   "outputs": [],
   "source": [
    "#Oversample train data\n",
    "from imblearn.over_sampling import RandomOverSampler\n",
    "ros = RandomOverSampler(random_state=0)\n",
    "X_resampled, y_resampled = ros.fit_resample(X_train, y_train)"
   ]
  },
  {
   "cell_type": "markdown",
   "metadata": {},
   "source": [
    "As the data has around 500 features, yet only has 7000 records, we want to scale the features first and reduce the dimensionality with a simple PCA."
   ]
  },
  {
   "cell_type": "code",
   "execution_count": 203,
   "metadata": {},
   "outputs": [],
   "source": [
    "#Scale train and test data\n",
    "from sklearn import preprocessing\n",
    "scaler = preprocessing.StandardScaler()\n",
    "scaler.fit(X_resampled)\n",
    "X_train_resampled_scaled = scaler.transform(X_resampled)\n",
    "X_test_scaled = scaler.transform(X_test)"
   ]
  },
  {
   "cell_type": "markdown",
   "metadata": {},
   "source": [
    "Because sample size is very restricted, here we use cross-validation to train and validate the model. We tune some key hyperparameters with a simple grid search."
   ]
  },
  {
   "cell_type": "code",
   "execution_count": 204,
   "metadata": {},
   "outputs": [],
   "source": [
    "#Use a pipeline to assemble PCA and logit\n",
    "from sklearn.decomposition import PCA\n",
    "from sklearn.linear_model import LogisticRegression\n",
    "from sklearn.pipeline import Pipeline\n",
    "pca = PCA()\n",
    "logistic = LogisticRegression(max_iter=10000, tol=0.1)\n",
    "pipe = Pipeline(steps=[('pca', pca), ('logistic', logistic)])"
   ]
  },
  {
   "cell_type": "markdown",
   "metadata": {},
   "source": [
    "I'd particularly look at recall here, as with the imbalanced data we care about how well we identify the TP case (and how many real cases we fail to identify)."
   ]
  },
  {
   "cell_type": "code",
   "execution_count": 205,
   "metadata": {},
   "outputs": [
    {
     "name": "stdout",
     "output_type": "stream",
     "text": [
      "Best parameter (CV recall=0.813):\n"
     ]
    },
    {
     "data": {
      "text/plain": [
       "{'logistic__C': 21.54434690031882, 'pca__n_components': 64}"
      ]
     },
     "execution_count": 205,
     "metadata": {},
     "output_type": "execute_result"
    }
   ],
   "source": [
    "#Tune PCA and logit parameters\n",
    "from sklearn.model_selection import GridSearchCV\n",
    "param_grid = {\n",
    "'pca__n_components': [5, 15, 30, 45, 64],\n",
    "'logistic__C': np.logspace(-4, 4, 4),\n",
    "}\n",
    "search = GridSearchCV(pipe, param_grid, n_jobs=-1,refit='recall_macro', cv=5)\n",
    "search.fit(X_train_resampled_scaled, y_resampled)\n",
    "#Inspect the best parameters\n",
    "print(\"Best parameter (CV recall=%0.3f):\" % search.best_score_)\n",
    "search.best_params_"
   ]
  },
  {
   "cell_type": "code",
   "execution_count": 206,
   "metadata": {},
   "outputs": [
    {
     "name": "stdout",
     "output_type": "stream",
     "text": [
      "              precision    recall  f1-score   support\n",
      "\n",
      "           0       0.98      0.83      0.90      2012\n",
      "           1       0.11      0.60      0.19        73\n",
      "\n",
      "   micro avg       0.82      0.82      0.82      2085\n",
      "   macro avg       0.55      0.72      0.55      2085\n",
      "weighted avg       0.95      0.82      0.88      2085\n",
      "\n"
     ]
    }
   ],
   "source": [
    "#Show test result\n",
    "from sklearn.metrics import classification_report\n",
    "y_pred = search.predict(X_test_scaled)\n",
    "print(classification_report(y_test, y_pred))"
   ]
  },
  {
   "cell_type": "markdown",
   "metadata": {},
   "source": [
    "Focusing on the recall for value 1 case, it looks like we were able to get 60% of the cases right. So this did a better job than the baseline which gets nothing right on positive cases.\n",
    "\n",
    "If this is a production-level model, I'll retrain the model with all available data again to ensure all information is utilized, but I'll just pickle it for now."
   ]
  },
  {
   "cell_type": "code",
   "execution_count": 207,
   "metadata": {},
   "outputs": [
    {
     "data": {
      "text/plain": [
       "['C:/Users/Tianl/Documents/GitHub/Lucid-test/logit.pkl']"
      ]
     },
     "execution_count": 207,
     "metadata": {},
     "output_type": "execute_result"
    }
   ],
   "source": [
    "#Pickle the model file\n",
    "import joblib\n",
    "best_model=search.best_estimator_\n",
    "model_file='C:/Users/Tianl/Documents/GitHub/Lucid-test/logit.pkl'\n",
    "joblib.dump(best_model, model_file)"
   ]
  }
 ],
 "metadata": {
  "kernelspec": {
   "display_name": "Python 3",
   "language": "python",
   "name": "python3"
  }
 },
 "nbformat": 4,
 "nbformat_minor": 2
}
